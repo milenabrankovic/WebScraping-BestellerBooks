{
 "cells": [
  {
   "cell_type": "code",
   "execution_count": 197,
   "metadata": {},
   "outputs": [],
   "source": [
    "#import libraries\n",
    "\n",
    "import requests\n",
    "from bs4 import BeautifulSoup as bs\n",
    "import numpy as np\n",
    "import pandas as pd\n",
    "import matplotlib.pyplot as plt"
   ]
  },
  {
   "cell_type": "code",
   "execution_count": 198,
   "metadata": {},
   "outputs": [],
   "source": [
    "#get content from url\n",
    "\n",
    "url = f'https://www.bookdepository.com/bestsellers'\n",
    "response = requests.get(url)\n",
    "html = response.content\n",
    "soup = bs(html, 'lxml')"
   ]
  },
  {
   "cell_type": "code",
   "execution_count": 199,
   "metadata": {},
   "outputs": [],
   "source": [
    "#data fields to save\n",
    "\n",
    "title = []\n",
    "book_format = []\n",
    "pub_date = []\n",
    "price = []"
   ]
  },
  {
   "cell_type": "code",
   "execution_count": 200,
   "metadata": {},
   "outputs": [],
   "source": [
    "#find book informations\n",
    "\n",
    "books = soup.find_all('div', class_='book-item')\n",
    "\n",
    "for book in books:\n",
    "    title.append(book.find('h3', class_='title').get_text(strip=True))\n",
    "    book_format.append(book.find('p', class_='format').get_text(strip=True))\n",
    "    pub_date.append(book.find('p', class_='published').get_text(strip=True)[-4:])\n",
    "    \n",
    "    price_wrap = book.find('div', class_='price-wrap')\n",
    "    \n",
    "    if price_wrap.find('p', class_='price'):\n",
    "        price_info = price_wrap.find('p', class_='price')\n",
    "        current_price = float(price_info.get_text(strip=True).split(' ')[0].replace(',', '.'))\n",
    "    else:\n",
    "        current_price = None\n",
    "    price.append(current_price)"
   ]
  },
  {
   "cell_type": "code",
   "execution_count": 205,
   "metadata": {},
   "outputs": [
    {
     "name": "stdout",
     "output_type": "stream",
     "text": [
      "                      Title Format of Book Year Published  Price\n",
      "0      The Midnight Library      Paperback           2021   8.65\n",
      "1      Surrounded by Idiots      Paperback           2019  10.21\n",
      "2          How to Cook That       Hardback           2021  21.44\n",
      "3                     Later      Paperback           2021   9.73\n",
      "4  They Both Die at the End      Paperback           2017   8.95\n"
     ]
    }
   ],
   "source": [
    "#save data to .csv file\n",
    "\n",
    "data = {\n",
    "    'Title': title,\n",
    "    'Format of Book': book_format,\n",
    "    'Year Published': pub_date,\n",
    "    'Price': price\n",
    "}\n",
    "\n",
    "df = pd.DataFrame(data)\n",
    "df.to_csv('data.csv')\n",
    "print(df.head())"
   ]
  },
  {
   "cell_type": "code",
   "execution_count": 207,
   "metadata": {},
   "outputs": [
    {
     "data": {
      "text/plain": [
       "<AxesSubplot:xlabel='Book prices in euro', ylabel='Number of books'>"
      ]
     },
     "execution_count": 207,
     "metadata": {},
     "output_type": "execute_result"
    },
    {
     "data": {
      "image/png": "[encoded data removed]",
      "text/plain": [
       "<Figure size 720x432 with 1 Axes>"
      ]
     },
     "metadata": {
      "needs_background": "light"
     },
     "output_type": "display_data"
    }
   ],
   "source": [
    "#data viz about current prices\n",
    "\n",
    "%matplotlib inline\n",
    "plt.figure(figsize=(10, 6))\n",
    "plt.xticks(np.arange(0, 40, step=2))\n",
    "plt.yticks(np.arange(0, 11, step=1))\n",
    "plt.xlabel(\"Book prices in euro\", fontsize = 12)\n",
    "plt.ylabel(\"Number of books\", fontsize = 12)\n",
    "df['Price'].hist(bins=15)"
   ]
  }
 ],
 "metadata": {
  "kernelspec": {
   "display_name": "Python 3",
   "language": "python",
   "name": "python3"
  },
  "language_info": {
   "codemirror_mode": {
    "name": "ipython",
    "version": 3
   },
   "file_extension": ".py",
   "mimetype": "text/x-python",
   "name": "python",
   "nbconvert_exporter": "python",
   "pygments_lexer": "ipython3",
   "version": "3.7.4"
  }
 },
 "nbformat": 4,
 "nbformat_minor": 2
}
